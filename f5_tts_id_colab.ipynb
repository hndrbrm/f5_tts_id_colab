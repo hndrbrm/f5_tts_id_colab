{
  "nbformat": 4,
  "nbformat_minor": 0,
  "metadata": {
    "colab": {
      "provenance": [],
      "gpuType": "T4"
    },
    "kernelspec": {
      "name": "python3",
      "display_name": "Python 3"
    },
    "language_info": {
      "name": "python"
    },
    "accelerator": "GPU"
  },
  "cells": [
    {
      "cell_type": "markdown",
      "source": [
        "# Check the status of the GPU."
      ],
      "metadata": {
        "id": "KXOXlzhy_TZR"
      }
    },
    {
      "cell_type": "code",
      "metadata": {
        "id": "n1wPWmjJd--t",
        "jupyter": {
          "is_executing": true
        }
      },
      "source": [
        "!nvidia-smi"
      ],
      "outputs": [],
      "execution_count": null
    },
    {
      "cell_type": "markdown",
      "source": [
        "# Run F5-TTS for Indonesian Language."
      ],
      "metadata": {
        "id": "1g-c1q0W_djS"
      }
    },
    {
      "cell_type": "code",
      "source": [
        "!git clone https://huggingface.co/spaces/hndrbrm/f5_tts_id_space\n",
        "%cd /content/f5_tts_id_space\n",
        "!pip install -r requirements.txt\n",
        "!python app.py --share"
      ],
      "metadata": {
        "id": "w5huO7B9etpd"
      },
      "execution_count": null,
      "outputs": []
    }
  ]
}